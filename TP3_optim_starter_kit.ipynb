{
  "nbformat": 4,
  "nbformat_minor": 0,
  "metadata": {
    "colab": {
      "name": "TP3_optim_starter_kit.ipynb",
      "version": "0.3.2",
      "provenance": [],
      "include_colab_link": true
    },
    "kernelspec": {
      "name": "python3",
      "display_name": "Python 3"
    },
    "accelerator": "GPU"
  },
  "cells": [
    {
      "cell_type": "markdown",
      "metadata": {
        "id": "view-in-github",
        "colab_type": "text"
      },
      "source": [
        "[View in Colaboratory](https://colab.research.google.com/github/MedSalahBT/cours-insa/blob/master/TP3_optim_starter_kit.ipynb)"
      ]
    },
    {
      "metadata": {
        "id": "2ssxyNqF3AzB",
        "colab_type": "code",
        "colab": {
          "base_uri": "https://localhost:8080/",
          "height": 1020
        },
        "outputId": "a9fbe727-97d2-47a5-a5e3-0788c94e16b5"
      },
      "cell_type": "code",
      "source": [
        "!pip install cvxpy"
      ],
      "execution_count": 1,
      "outputs": [
        {
          "output_type": "stream",
          "text": [
            "Collecting cvxpy\n",
            "\u001b[?25l  Downloading https://files.pythonhosted.org/packages/79/06/cc0553f250eef7160a364b561b451b40954308d1520e6bb055b8c6ac144a/cvxpy-1.0.8.tar.gz (900kB)\n",
            "\u001b[K    100% |████████████████████████████████| 901kB 16.2MB/s \n",
            "\u001b[?25hCollecting osqp (from cvxpy)\n",
            "\u001b[?25l  Downloading https://files.pythonhosted.org/packages/05/42/0ccab82eb6ed0edb83d184928ec864232dc00c3cf968a4b92a02caf0f7ec/osqp-0.4.0-cp36-cp36m-manylinux1_x86_64.whl (146kB)\n",
            "\u001b[K    100% |████████████████████████████████| 153kB 26.4MB/s \n",
            "\u001b[?25hCollecting ecos>=2 (from cvxpy)\n",
            "\u001b[?25l  Downloading https://files.pythonhosted.org/packages/b6/b4/988b15513b13e8ea2eac65e97d84221ac515a735a93f046e2a2a3d7863fc/ecos-2.0.5.tar.gz (114kB)\n",
            "\u001b[K    100% |████████████████████████████████| 122kB 28.6MB/s \n",
            "\u001b[?25hCollecting scs>=1.1.3 (from cvxpy)\n",
            "\u001b[?25l  Downloading https://files.pythonhosted.org/packages/b3/fd/6e01c4f4a69fcc6c3db130ba55572089e78e77ea8c0921a679f9da1ec04c/scs-2.0.2.tar.gz (133kB)\n",
            "\u001b[K    100% |████████████████████████████████| 143kB 29.1MB/s \n",
            "\u001b[?25hCollecting multiprocess (from cvxpy)\n",
            "\u001b[?25l  Downloading https://files.pythonhosted.org/packages/7a/ee/b9bf3e171f936743758ef924622d8dd00516c5532b00a1210a09bce68325/multiprocess-0.70.6.1.tar.gz (1.4MB)\n",
            "\u001b[K    100% |████████████████████████████████| 1.4MB 6.2MB/s \n",
            "\u001b[?25hCollecting fastcache (from cvxpy)\n",
            "  Downloading https://files.pythonhosted.org/packages/fb/98/93f2d36738868e8dd5a8dbfc918169b24658f63e5fa041fe000c22ae4f8b/fastcache-1.0.2.tar.gz\n",
            "Requirement already satisfied: six in /usr/local/lib/python3.6/dist-packages (from cvxpy) (1.11.0)\n",
            "Requirement already satisfied: toolz in /usr/local/lib/python3.6/dist-packages (from cvxpy) (0.9.0)\n",
            "Requirement already satisfied: numpy>=1.14 in /usr/local/lib/python3.6/dist-packages (from cvxpy) (1.14.6)\n",
            "Requirement already satisfied: scipy>=0.19 in /usr/local/lib/python3.6/dist-packages (from cvxpy) (0.19.1)\n",
            "Requirement already satisfied: future in /usr/local/lib/python3.6/dist-packages (from osqp->cvxpy) (0.16.0)\n",
            "Requirement already satisfied: dill>=0.2.8.1 in /usr/local/lib/python3.6/dist-packages (from multiprocess->cvxpy) (0.2.8.2)\n",
            "Building wheels for collected packages: cvxpy, ecos, scs, multiprocess, fastcache\n",
            "  Running setup.py bdist_wheel for cvxpy ... \u001b[?25l-\b \b\\\b \b|\b \b/\b \b-\b \b\\\b \b|\b \b/\b \b-\b \b\\\b \b|\b \b/\b \b-\b \b\\\b \b|\b \b/\b \b-\b \b\\\b \b|\b \b/\b \b-\b \b\\\b \b|\b \b/\b \b-\b \b\\\b \b|\b \b/\b \b-\b \b\\\b \b|\b \b/\b \b-\b \b\\\b \b|\b \b/\b \b-\b \bdone\n",
            "\u001b[?25h  Stored in directory: /root/.cache/pip/wheels/10/e3/64/e65da213c6af18e1fd78d51482236a85207ff25962146e302f\n",
            "  Running setup.py bdist_wheel for ecos ... \u001b[?25l-\b \b\\\b \b|\b \b/\b \b-\b \b\\\b \b|\b \b/\b \b-\b \b\\\b \b|\b \b/\b \b-\b \b\\\b \b|\b \b/\b \b-\b \b\\\b \b|\b \b/\b \b-\b \b\\\b \b|\b \bdone\n",
            "\u001b[?25h  Stored in directory: /root/.cache/pip/wheels/50/91/1b/568de3c087b3399b03d130e71b1fd048ec072c45f72b6b6e9a\n",
            "  Running setup.py bdist_wheel for scs ... \u001b[?25l-\b \b\\\b \b|\b \b/\b \b-\b \b\\\b \b|\b \b/\b \b-\b \b\\\b \b|\b \b/\b \b-\b \b\\\b \b|\b \b/\b \b-\b \b\\\b \b|\b \b/\b \b-\b \b\\\b \b|\b \b/\b \b-\b \b\\\b \b|\b \b/\b \b-\b \b\\\b \b|\b \b/\b \b-\b \b\\\b \b|\b \b/\b \b-\b \bdone\n",
            "\u001b[?25h  Stored in directory: /root/.cache/pip/wheels/ff/f0/aa/530ccd478d7d9900b4e9ef5bc5a39e895ce110bed3d3ac653e\n",
            "  Running setup.py bdist_wheel for multiprocess ... \u001b[?25l-\b \b\\\b \b|\b \b/\b \bdone\n",
            "\u001b[?25h  Stored in directory: /root/.cache/pip/wheels/8b/36/e5/96614ab62baf927e9bc06889ea794a8e87552b84bb6bf65e3e\n",
            "  Running setup.py bdist_wheel for fastcache ... \u001b[?25l-\b \b\\\b \bdone\n",
            "\u001b[?25h  Stored in directory: /root/.cache/pip/wheels/b7/90/c0/da92ac52d188d9ebca577044e89a14d0e6ff333c1bcd1ebc14\n",
            "Successfully built cvxpy ecos scs multiprocess fastcache\n",
            "Installing collected packages: osqp, ecos, scs, multiprocess, fastcache, cvxpy\n",
            "Successfully installed cvxpy-1.0.8 ecos-2.0.5 fastcache-1.0.2 multiprocess-0.70.6.1 osqp-0.4.0 scs-2.0.2\n"
          ],
          "name": "stdout"
        }
      ]
    },
    {
      "metadata": {
        "id": "HiE3T9DR3HYu",
        "colab_type": "code",
        "colab": {}
      },
      "cell_type": "code",
      "source": [
        "import scipy as sc\n",
        "import numpy as np\n",
        "import cvxpy as cvx\n"
      ],
      "execution_count": 0,
      "outputs": []
    },
    {
      "metadata": {
        "id": "2n5E398e3Bx3",
        "colab_type": "code",
        "colab": {
          "base_uri": "https://localhost:8080/",
          "height": 218
        },
        "outputId": "bfbb0c17-eee5-4e22-f224-be43f5823ccd"
      },
      "cell_type": "code",
      "source": [
        "# http://www.vision.ime.usp.br/~igor/articles/convex-optimization.html\n",
        "\n",
        "x = cvx.Variable(1)\n",
        "y = cvx.Variable(1)\n",
        "prob = cvx.Problem(cvx.Minimize(30*x+20*y),[\n",
        "        8*x+12*y >=24,\n",
        "        12*x + 12*y >=36,\n",
        "        2*x + y >= 4,\n",
        "        x + y <= 5,\n",
        "        x>=0,y>=0])\n",
        "sol = prob.solve()\n",
        "print((x.value,y.value))\n",
        "\n",
        "\n",
        "# https://www.cvxpy.org/tutorial/advanced/index.html\n",
        "\n",
        "x = cvx.Variable(1)\n",
        "y = cvx.Variable(1)\n",
        "cout = cvx.Minimize(30*x+20*y)\n",
        "avec = [  8*x+12*y >=24,\n",
        "        12*x + 12*y >=36,\n",
        "        2*x + y >= 4,\n",
        "        x + y <= 5,\n",
        "        x>=0,y>=0]\n",
        "prob = cvx.Problem(cout,avec)\n",
        "sol = prob.solve()\n",
        "print((x.value,y.value))\n",
        "\n",
        "print(\"dual variable\", avec[0].dual_value)\n",
        "print(\"dual variable\", avec[1].dual_value)\n",
        "print(\"dual variable\", avec[2].dual_value)\n",
        "print(\"dual variable\", avec[3].dual_value)\n",
        "print(\"dual variable\", avec[4].dual_value)\n",
        "print(\"dual variable\", avec[5].dual_value)\n"
      ],
      "execution_count": 3,
      "outputs": [
        {
          "output_type": "stream",
          "text": [
            "(array([1.]), array([2.]))\n",
            "(array([1.]), array([2.]))\n",
            "dual variable [0.]\n",
            "dual variable [0.83333333]\n",
            "dual variable [10.]\n",
            "dual variable [0.]\n",
            "dual variable [0.]\n",
            "dual variable [0.]\n"
          ],
          "name": "stdout"
        }
      ]
    },
    {
      "metadata": {
        "id": "w8idY7XWH_Q4",
        "colab_type": "code",
        "colab": {
          "base_uri": "https://localhost:8080/",
          "height": 108
        },
        "outputId": "9d87226c-36bd-455f-b6fd-59514df83f5b"
      },
      "cell_type": "code",
      "source": [
        "A = [[1 , 2, 3],[4,5,6]]\n",
        "print(A)\n",
        "b = np.sum(A)\n",
        "print(b)\n",
        "b = np.sum(A,axis=0)\n",
        "print(b)\n",
        "b = np.sum(A,axis=1)\n",
        "print(b)"
      ],
      "execution_count": 11,
      "outputs": [
        {
          "output_type": "stream",
          "text": [
            "[[1, 2, 3], [4, 5, 6]]\n",
            "21\n",
            "[5 7 9]\n",
            "[ 6 15]\n"
          ],
          "name": "stdout"
        }
      ]
    },
    {
      "metadata": {
        "id": "90rys6YfI7Hu",
        "colab_type": "code",
        "colab": {
          "base_uri": "https://localhost:8080/",
          "height": 308
        },
        "outputId": "729b3dfa-4d99-43d9-aadc-a1a411cec225"
      },
      "cell_type": "code",
      "source": [
        "whos"
      ],
      "execution_count": 12,
      "outputs": [
        {
          "output_type": "stream",
          "text": [
            "Variable   Type        Data/Info\n",
            "--------------------------------\n",
            "A          list        n=2\n",
            "avec       list        n=6\n",
            "b          ndarray     2: 2 elems, type `int64`, 16 bytes\n",
            "cout       Minimize    minimize 30.0 * var40 + 20.0 * var41\n",
            "cvx        module      <module 'cvxpy' from '/us<...>kages/cvxpy/__init__.py'>\n",
            "np         module      <module 'numpy' from '/us<...>kages/numpy/__init__.py'>\n",
            "prob       Problem     minimize 30.0 * var40 + 2<...>        0.0 + -var41 <= 0\n",
            "sc         module      <module 'scipy' from '/us<...>kages/scipy/__init__.py'>\n",
            "sol        float64     70.0\n",
            "x          Variable    var40\n",
            "y          Variable    var41\n"
          ],
          "name": "stdout"
        }
      ]
    },
    {
      "metadata": {
        "id": "Rr60t7qIKDc8",
        "colab_type": "code",
        "colab": {
          "base_uri": "https://localhost:8080/",
          "height": 267
        },
        "outputId": "b0086460-188a-40e4-adeb-12f7cfaf12fc"
      },
      "cell_type": "code",
      "source": [
        "# https://www.cvxpy.org/tutorial/functions/index.html\n",
        "\n",
        "C = [[20.,40.,70.,50.],[100.,60.,90.,80.],[10.,110.,30.,200.]]\n",
        "u = [400.,1500.,900.]\n",
        "m = [700.,600.,1000,500.]\n",
        "un = [1.,1.,1.,1.]\n",
        "un3 = [1.,1.,1.]\n",
        "\n",
        "V = cvx.Variable((3,4))\n",
        "cout = cvx.Minimize(cvx.sum(C[0]*V[0])+cvx.sum(C[1]*V[1])+cvx.sum(C[2]*V[2]))\n",
        "avec = [V >=0,  V*un<=u,  V.T*un3>=m]\n",
        "prob = cvx.Problem(cout,avec)\n",
        "sol = prob.solve()\n",
        "\n",
        "print(V.value)\n",
        "\n",
        "print(V.value@un)\n",
        "print(V.value.T@un3)\n",
        "sum(sum(V.value*C))"
      ],
      "execution_count": 1,
      "outputs": [
        {
          "output_type": "error",
          "ename": "NameError",
          "evalue": "ignored",
          "traceback": [
            "\u001b[0;31m---------------------------------------------------------------------------\u001b[0m",
            "\u001b[0;31mNameError\u001b[0m                                 Traceback (most recent call last)",
            "\u001b[0;32m<ipython-input-1-a9b5a456931b>\u001b[0m in \u001b[0;36m<module>\u001b[0;34m()\u001b[0m\n\u001b[1;32m      6\u001b[0m \u001b[0mun3\u001b[0m \u001b[0;34m=\u001b[0m \u001b[0;34m[\u001b[0m\u001b[0;36m1.\u001b[0m\u001b[0;34m,\u001b[0m\u001b[0;36m1.\u001b[0m\u001b[0;34m,\u001b[0m\u001b[0;36m1.\u001b[0m\u001b[0;34m]\u001b[0m\u001b[0;34m\u001b[0m\u001b[0m\n\u001b[1;32m      7\u001b[0m \u001b[0;34m\u001b[0m\u001b[0m\n\u001b[0;32m----> 8\u001b[0;31m \u001b[0mV\u001b[0m \u001b[0;34m=\u001b[0m \u001b[0mcvx\u001b[0m\u001b[0;34m.\u001b[0m\u001b[0mVariable\u001b[0m\u001b[0;34m(\u001b[0m\u001b[0;34m(\u001b[0m\u001b[0;36m3\u001b[0m\u001b[0;34m,\u001b[0m\u001b[0;36m4\u001b[0m\u001b[0;34m)\u001b[0m\u001b[0;34m)\u001b[0m\u001b[0;34m\u001b[0m\u001b[0m\n\u001b[0m\u001b[1;32m      9\u001b[0m \u001b[0mcout\u001b[0m \u001b[0;34m=\u001b[0m \u001b[0mcvx\u001b[0m\u001b[0;34m.\u001b[0m\u001b[0mMinimize\u001b[0m\u001b[0;34m(\u001b[0m\u001b[0mcvx\u001b[0m\u001b[0;34m.\u001b[0m\u001b[0msum\u001b[0m\u001b[0;34m(\u001b[0m\u001b[0mC\u001b[0m\u001b[0;34m[\u001b[0m\u001b[0;36m0\u001b[0m\u001b[0;34m]\u001b[0m\u001b[0;34m*\u001b[0m\u001b[0mV\u001b[0m\u001b[0;34m[\u001b[0m\u001b[0;36m0\u001b[0m\u001b[0;34m]\u001b[0m\u001b[0;34m)\u001b[0m\u001b[0;34m+\u001b[0m\u001b[0mcvx\u001b[0m\u001b[0;34m.\u001b[0m\u001b[0msum\u001b[0m\u001b[0;34m(\u001b[0m\u001b[0mC\u001b[0m\u001b[0;34m[\u001b[0m\u001b[0;36m1\u001b[0m\u001b[0;34m]\u001b[0m\u001b[0;34m*\u001b[0m\u001b[0mV\u001b[0m\u001b[0;34m[\u001b[0m\u001b[0;36m1\u001b[0m\u001b[0;34m]\u001b[0m\u001b[0;34m)\u001b[0m\u001b[0;34m+\u001b[0m\u001b[0mcvx\u001b[0m\u001b[0;34m.\u001b[0m\u001b[0msum\u001b[0m\u001b[0;34m(\u001b[0m\u001b[0mC\u001b[0m\u001b[0;34m[\u001b[0m\u001b[0;36m2\u001b[0m\u001b[0;34m]\u001b[0m\u001b[0;34m*\u001b[0m\u001b[0mV\u001b[0m\u001b[0;34m[\u001b[0m\u001b[0;36m2\u001b[0m\u001b[0;34m]\u001b[0m\u001b[0;34m)\u001b[0m\u001b[0;34m)\u001b[0m\u001b[0;34m\u001b[0m\u001b[0m\n\u001b[1;32m     10\u001b[0m \u001b[0mavec\u001b[0m \u001b[0;34m=\u001b[0m \u001b[0;34m[\u001b[0m\u001b[0mV\u001b[0m \u001b[0;34m>=\u001b[0m\u001b[0;36m0\u001b[0m\u001b[0;34m,\u001b[0m  \u001b[0mV\u001b[0m\u001b[0;34m*\u001b[0m\u001b[0mun\u001b[0m\u001b[0;34m<=\u001b[0m\u001b[0mu\u001b[0m\u001b[0;34m,\u001b[0m  \u001b[0mV\u001b[0m\u001b[0;34m.\u001b[0m\u001b[0mT\u001b[0m\u001b[0;34m*\u001b[0m\u001b[0mun3\u001b[0m\u001b[0;34m>=\u001b[0m\u001b[0mm\u001b[0m\u001b[0;34m]\u001b[0m\u001b[0;34m\u001b[0m\u001b[0m\n",
            "\u001b[0;31mNameError\u001b[0m: name 'cvx' is not defined"
          ]
        }
      ]
    },
    {
      "metadata": {
        "id": "CmFux_GZLCvI",
        "colab_type": "code",
        "colab": {
          "base_uri": "https://localhost:8080/",
          "height": 94
        },
        "outputId": "9be297fe-ce40-425c-9a50-7b6254805628"
      },
      "cell_type": "code",
      "source": [
        ""
      ],
      "execution_count": 41,
      "outputs": [
        {
          "output_type": "execute_result",
          "data": {
            "text/plain": [
              "Expression(AFFINE, UNKNOWN, ())"
            ]
          },
          "metadata": {
            "tags": []
          },
          "execution_count": 41
        }
      ]
    },
    {
      "metadata": {
        "id": "Lf5iCdDK-_Xo",
        "colab_type": "code",
        "colab": {
          "base_uri": "https://localhost:8080/",
          "height": 1016
        },
        "outputId": "7dadba31-e182-411e-c47b-ccf795205498"
      },
      "cell_type": "code",
      "source": [
        "!pip install glpk"
      ],
      "execution_count": 5,
      "outputs": [
        {
          "output_type": "stream",
          "text": [
            "Collecting glpk\n",
            "\u001b[?25l  Downloading https://files.pythonhosted.org/packages/dc/6c/33e383f6613a90865bddeb1666c2b6121563b21a41d12d75bc2836a6bfdb/glpk-0.3.tar.gz (154kB)\n",
            "\u001b[K    100% |████████████████████████████████| 163kB 4.8MB/s \n",
            "\u001b[?25hBuilding wheels for collected packages: glpk\n",
            "  Running setup.py bdist_wheel for glpk ... \u001b[?25l-\b \berror\n",
            "  Complete output from command /usr/bin/python3 -u -c \"import setuptools, tokenize;__file__='/tmp/pip-install-g1yps7i7/glpk/setup.py';f=getattr(tokenize, 'open', open)(__file__);code=f.read().replace('\\r\\n', '\\n');f.close();exec(compile(code, __file__, 'exec'))\" bdist_wheel -d /tmp/pip-wheel-qdad7i2f --python-tag cp36:\n",
            "  running bdist_wheel\n",
            "  running build\n",
            "  running build_ext\n",
            "  building 'glpk' extension\n",
            "  creating build\n",
            "  creating build/temp.linux-x86_64-3.6\n",
            "  creating build/temp.linux-x86_64-3.6/src\n",
            "  x86_64-linux-gnu-gcc -pthread -DNDEBUG -g -fwrapv -O2 -Wall -Wstrict-prototypes -g -fdebug-prefix-map=/build/python3.6-sXpGnM/python3.6-3.6.3=. -specs=/usr/share/dpkg/no-pie-compile.specs -fstack-protector-strong -Wformat -Werror=format-security -Wdate-time -D_FORTIFY_SOURCE=2 -fPIC -Isrc -I/usr/include/python3.6m -c src/glpk.c -o build/temp.linux-x86_64-3.6/src/glpk.o\n",
            "  In file included from src/glpk.c:21:0:\n",
            "  src/lp.h:24:10: fatal error: glpk.h: No such file or directory\n",
            "   #include \"glpk.h\"\n",
            "            ^~~~~~~~\n",
            "  compilation terminated.\n",
            "  error: command 'x86_64-linux-gnu-gcc' failed with exit status 1\n",
            "  \n",
            "  ----------------------------------------\n",
            "\u001b[31m  Failed building wheel for glpk\u001b[0m\n",
            "\u001b[?25h  Running setup.py clean for glpk\n",
            "Failed to build glpk\n",
            "Installing collected packages: glpk\n",
            "  Running setup.py install for glpk ... \u001b[?25l-\b \berror\n",
            "    Complete output from command /usr/bin/python3 -u -c \"import setuptools, tokenize;__file__='/tmp/pip-install-g1yps7i7/glpk/setup.py';f=getattr(tokenize, 'open', open)(__file__);code=f.read().replace('\\r\\n', '\\n');f.close();exec(compile(code, __file__, 'exec'))\" install --record /tmp/pip-record-8otyo4x1/install-record.txt --single-version-externally-managed --compile:\n",
            "    running install\n",
            "    running build\n",
            "    running build_ext\n",
            "    building 'glpk' extension\n",
            "    creating build\n",
            "    creating build/temp.linux-x86_64-3.6\n",
            "    creating build/temp.linux-x86_64-3.6/src\n",
            "    x86_64-linux-gnu-gcc -pthread -DNDEBUG -g -fwrapv -O2 -Wall -Wstrict-prototypes -g -fdebug-prefix-map=/build/python3.6-sXpGnM/python3.6-3.6.3=. -specs=/usr/share/dpkg/no-pie-compile.specs -fstack-protector-strong -Wformat -Werror=format-security -Wdate-time -D_FORTIFY_SOURCE=2 -fPIC -Isrc -I/usr/include/python3.6m -c src/glpk.c -o build/temp.linux-x86_64-3.6/src/glpk.o\n",
            "    In file included from src/glpk.c:21:0:\n",
            "    src/lp.h:24:10: fatal error: glpk.h: No such file or directory\n",
            "     #include \"glpk.h\"\n",
            "              ^~~~~~~~\n",
            "    compilation terminated.\n",
            "    error: command 'x86_64-linux-gnu-gcc' failed with exit status 1\n",
            "    \n",
            "    ----------------------------------------\n",
            "\u001b[31mCommand \"/usr/bin/python3 -u -c \"import setuptools, tokenize;__file__='/tmp/pip-install-g1yps7i7/glpk/setup.py';f=getattr(tokenize, 'open', open)(__file__);code=f.read().replace('\\r\\n', '\\n');f.close();exec(compile(code, __file__, 'exec'))\" install --record /tmp/pip-record-8otyo4x1/install-record.txt --single-version-externally-managed --compile\" failed with error code 1 in /tmp/pip-install-g1yps7i7/glpk/\u001b[0m\n",
            "\u001b[?25h"
          ],
          "name": "stdout"
        }
      ]
    }
  ]
}